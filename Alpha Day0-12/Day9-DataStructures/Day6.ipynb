{
 "cells": [
  {
   "cell_type": "markdown",
   "metadata": {},
   "source": [
    "\n",
    "1. **Lists**:\n",
    "    - Lists are used to store multiple items in a single variable.\n",
    "    - They are ordered, changeable, and allow duplicate values.\n",
    "    - Creating a list:\n",
    "        ```python\n",
    "        mylist = [\"apple\", \"banana\", \"cherry\"]\n",
    "        print(mylist)\n",
    "        ```\n",
    "    - Common list methods:\n",
    "        - `append(item)`: Adds an item to the end of the list.\n",
    "        - `sort()`: Sorts the list in ascending order.\n",
    "        - `reverse()`: Reverses the order of the list.\n",
    "        - `count(item)`: Returns the number of occurrences of an item.\n",
    "        - `index(item)`: Returns the index of the first occurrence of an item.\n",
    "        - `insert(index, item)`: Inserts an item at a specific position.\n",
    "        - `extend(iterable)`: Merges two lists.\n",
    "    - Example:\n",
    "        ```python\n",
    "        mylist.append(34)\n",
    "        mylist.sort()\n",
    "        mylist.reverse()\n",
    "        print(mylist.count(34))\n",
    "        ```\n",
    "\n",
    "2. **Tuples**:\n",
    "    - Tuples are similar to lists but are immutable (cannot be changed after creation).\n",
    "    - They are useful when you want to store data that should not be modified.\n",
    "    - Creating a tuple:\n",
    "        ```python\n",
    "        mytuple = (1, 2, 34, 36, 690, 7)\n",
    "        print(type(mytuple), mytuple)\n",
    "        ```\n",
    "    - Common tuple operations:\n",
    "        - Slicing: Extracting parts of a tuple.\n",
    "        - Concatenation: Combining two tuples.\n",
    "        - `index(item)`: Finding the index of an item.\n",
    "    - Example:\n",
    "        ```python\n",
    "        if 34 in mytuple:\n",
    "            print(\"Yes\")\n",
    "            tup2 = mytuple[1:5]\n",
    "        print(len(tup2), tup2)\n",
    "        ```"
   ]
  }
 ],
 "metadata": {
  "language_info": {
   "name": "python"
  }
 },
 "nbformat": 4,
 "nbformat_minor": 2
}
